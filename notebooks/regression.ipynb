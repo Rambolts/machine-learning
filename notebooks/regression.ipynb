{
 "cells": [
  {
   "cell_type": "code",
   "execution_count": 1,
   "metadata": {},
   "outputs": [],
   "source": [
    "import pandas as pd\n",
    "import numpy as np\n",
    "import matplotlib.pyplot as plt\n",
    "import seaborn as sns\n",
    "\n",
    "from sklearn.metrics import accuracy_score\n",
    "from sklearn.model_selection import learning_curve\n",
    "from sklearn.metrics import mean_squared_error, mean_absolute_error, r2_score"
   ]
  },
  {
   "cell_type": "code",
   "execution_count": 2,
   "metadata": {},
   "outputs": [],
   "source": [
    "## Funções para avaliar modelos:\n",
    "\n",
    "def mean_absolute_percentage_error(y_true, y_pred):\n",
    "    y_true, y_pred = np.array(y_true), np.array(y_pred)\n",
    "    return np.mean(np.abs((y_true - y_pred) / y_true)) * 100\n",
    "\n",
    "# Função para calcular RMSE\n",
    "def root_mean_squared_error(y_true, y_pred):\n",
    "    return np.sqrt(mean_squared_error(y_true, y_pred))\n",
    "\n",
    "def validate_model(y_pred, y_test, model_name=None):\n",
    "    mse    = mean_squared_error(y_test, y_pred)\n",
    "    rmse   = root_mean_squared_error(y_test, y_pred)\n",
    "    mae    = mean_absolute_error(y_test, y_pred)\n",
    "    mape   = mean_absolute_percentage_error(y_test, y_pred)\n",
    "    r2     = r2_score(y_test, y_pred)\n",
    "    \n",
    "    str_model_results = f\"\"\"\n",
    "    *-------------------------*\n",
    "    Modelo {model_name}:\\n\n",
    "    MSE  : {mse.round(5)}\n",
    "    RMSE : {rmse.round(5)}\n",
    "    MAE  : {mae.round(5)}\n",
    "    MAPE : {mape.round(5)}\n",
    "    R²   : {r2.round(5)}\n",
    "    *-------------------------*\\n\"\"\"\n",
    "    print(str_model_results)\n",
    "    return {'mse': mse.round(5), 'rmse':rmse.round(5), 'mae':mae.round(5), 'mape':mape.round(5), 'r2':r2.round(5)}\n",
    "\n",
    "# print(\"*-------------------------*\")\n",
    "# print(f\"Modelo {model_name}:\\n\")\n",
    "# print(f\"MSE  : {mse.round(5)}\")\n",
    "# print(f\"RMSE : {rmse.round(5)}\")\n",
    "# print(f\"MAE  : {mae.round(5)}\")\n",
    "# print(f\"MAPE : {mape.round(5)}\")\n",
    "# print(f\"R²   : {r2.round(5)}\")\n",
    "# print(\"*-------------------------*\\n\")"
   ]
  },
  {
   "cell_type": "code",
   "execution_count": 3,
   "metadata": {},
   "outputs": [],
   "source": [
    "from sklearn.datasets import fetch_california_housing\n",
    "data = fetch_california_housing()"
   ]
  },
  {
   "cell_type": "code",
   "execution_count": 4,
   "metadata": {},
   "outputs": [],
   "source": [
    "X = pd.DataFrame(data.data, columns = data.feature_names)\n",
    "y = pd.Series(data.target, name = 'target')\n"
   ]
  },
  {
   "cell_type": "markdown",
   "metadata": {},
   "source": [
    "## Analise Exploratória"
   ]
  },
  {
   "cell_type": "code",
   "execution_count": 5,
   "metadata": {},
   "outputs": [
    {
     "data": {
      "text/html": [
       "<div>\n",
       "<style scoped>\n",
       "    .dataframe tbody tr th:only-of-type {\n",
       "        vertical-align: middle;\n",
       "    }\n",
       "\n",
       "    .dataframe tbody tr th {\n",
       "        vertical-align: top;\n",
       "    }\n",
       "\n",
       "    .dataframe thead th {\n",
       "        text-align: right;\n",
       "    }\n",
       "</style>\n",
       "<table border=\"1\" class=\"dataframe\">\n",
       "  <thead>\n",
       "    <tr style=\"text-align: right;\">\n",
       "      <th></th>\n",
       "      <th>MedInc</th>\n",
       "      <th>HouseAge</th>\n",
       "      <th>AveRooms</th>\n",
       "      <th>AveBedrms</th>\n",
       "      <th>Population</th>\n",
       "      <th>AveOccup</th>\n",
       "      <th>Latitude</th>\n",
       "      <th>Longitude</th>\n",
       "    </tr>\n",
       "  </thead>\n",
       "  <tbody>\n",
       "    <tr>\n",
       "      <th>0</th>\n",
       "      <td>8.3252</td>\n",
       "      <td>41.0</td>\n",
       "      <td>6.984127</td>\n",
       "      <td>1.023810</td>\n",
       "      <td>322.0</td>\n",
       "      <td>2.555556</td>\n",
       "      <td>37.88</td>\n",
       "      <td>-122.23</td>\n",
       "    </tr>\n",
       "    <tr>\n",
       "      <th>1</th>\n",
       "      <td>8.3014</td>\n",
       "      <td>21.0</td>\n",
       "      <td>6.238137</td>\n",
       "      <td>0.971880</td>\n",
       "      <td>2401.0</td>\n",
       "      <td>2.109842</td>\n",
       "      <td>37.86</td>\n",
       "      <td>-122.22</td>\n",
       "    </tr>\n",
       "    <tr>\n",
       "      <th>2</th>\n",
       "      <td>7.2574</td>\n",
       "      <td>52.0</td>\n",
       "      <td>8.288136</td>\n",
       "      <td>1.073446</td>\n",
       "      <td>496.0</td>\n",
       "      <td>2.802260</td>\n",
       "      <td>37.85</td>\n",
       "      <td>-122.24</td>\n",
       "    </tr>\n",
       "    <tr>\n",
       "      <th>3</th>\n",
       "      <td>5.6431</td>\n",
       "      <td>52.0</td>\n",
       "      <td>5.817352</td>\n",
       "      <td>1.073059</td>\n",
       "      <td>558.0</td>\n",
       "      <td>2.547945</td>\n",
       "      <td>37.85</td>\n",
       "      <td>-122.25</td>\n",
       "    </tr>\n",
       "    <tr>\n",
       "      <th>4</th>\n",
       "      <td>3.8462</td>\n",
       "      <td>52.0</td>\n",
       "      <td>6.281853</td>\n",
       "      <td>1.081081</td>\n",
       "      <td>565.0</td>\n",
       "      <td>2.181467</td>\n",
       "      <td>37.85</td>\n",
       "      <td>-122.25</td>\n",
       "    </tr>\n",
       "    <tr>\n",
       "      <th>...</th>\n",
       "      <td>...</td>\n",
       "      <td>...</td>\n",
       "      <td>...</td>\n",
       "      <td>...</td>\n",
       "      <td>...</td>\n",
       "      <td>...</td>\n",
       "      <td>...</td>\n",
       "      <td>...</td>\n",
       "    </tr>\n",
       "    <tr>\n",
       "      <th>20635</th>\n",
       "      <td>1.5603</td>\n",
       "      <td>25.0</td>\n",
       "      <td>5.045455</td>\n",
       "      <td>1.133333</td>\n",
       "      <td>845.0</td>\n",
       "      <td>2.560606</td>\n",
       "      <td>39.48</td>\n",
       "      <td>-121.09</td>\n",
       "    </tr>\n",
       "    <tr>\n",
       "      <th>20636</th>\n",
       "      <td>2.5568</td>\n",
       "      <td>18.0</td>\n",
       "      <td>6.114035</td>\n",
       "      <td>1.315789</td>\n",
       "      <td>356.0</td>\n",
       "      <td>3.122807</td>\n",
       "      <td>39.49</td>\n",
       "      <td>-121.21</td>\n",
       "    </tr>\n",
       "    <tr>\n",
       "      <th>20637</th>\n",
       "      <td>1.7000</td>\n",
       "      <td>17.0</td>\n",
       "      <td>5.205543</td>\n",
       "      <td>1.120092</td>\n",
       "      <td>1007.0</td>\n",
       "      <td>2.325635</td>\n",
       "      <td>39.43</td>\n",
       "      <td>-121.22</td>\n",
       "    </tr>\n",
       "    <tr>\n",
       "      <th>20638</th>\n",
       "      <td>1.8672</td>\n",
       "      <td>18.0</td>\n",
       "      <td>5.329513</td>\n",
       "      <td>1.171920</td>\n",
       "      <td>741.0</td>\n",
       "      <td>2.123209</td>\n",
       "      <td>39.43</td>\n",
       "      <td>-121.32</td>\n",
       "    </tr>\n",
       "    <tr>\n",
       "      <th>20639</th>\n",
       "      <td>2.3886</td>\n",
       "      <td>16.0</td>\n",
       "      <td>5.254717</td>\n",
       "      <td>1.162264</td>\n",
       "      <td>1387.0</td>\n",
       "      <td>2.616981</td>\n",
       "      <td>39.37</td>\n",
       "      <td>-121.24</td>\n",
       "    </tr>\n",
       "  </tbody>\n",
       "</table>\n",
       "<p>20640 rows × 8 columns</p>\n",
       "</div>"
      ],
      "text/plain": [
       "       MedInc  HouseAge  AveRooms  AveBedrms  Population  AveOccup  Latitude   \n",
       "0      8.3252      41.0  6.984127   1.023810       322.0  2.555556     37.88  \\\n",
       "1      8.3014      21.0  6.238137   0.971880      2401.0  2.109842     37.86   \n",
       "2      7.2574      52.0  8.288136   1.073446       496.0  2.802260     37.85   \n",
       "3      5.6431      52.0  5.817352   1.073059       558.0  2.547945     37.85   \n",
       "4      3.8462      52.0  6.281853   1.081081       565.0  2.181467     37.85   \n",
       "...       ...       ...       ...        ...         ...       ...       ...   \n",
       "20635  1.5603      25.0  5.045455   1.133333       845.0  2.560606     39.48   \n",
       "20636  2.5568      18.0  6.114035   1.315789       356.0  3.122807     39.49   \n",
       "20637  1.7000      17.0  5.205543   1.120092      1007.0  2.325635     39.43   \n",
       "20638  1.8672      18.0  5.329513   1.171920       741.0  2.123209     39.43   \n",
       "20639  2.3886      16.0  5.254717   1.162264      1387.0  2.616981     39.37   \n",
       "\n",
       "       Longitude  \n",
       "0        -122.23  \n",
       "1        -122.22  \n",
       "2        -122.24  \n",
       "3        -122.25  \n",
       "4        -122.25  \n",
       "...          ...  \n",
       "20635    -121.09  \n",
       "20636    -121.21  \n",
       "20637    -121.22  \n",
       "20638    -121.32  \n",
       "20639    -121.24  \n",
       "\n",
       "[20640 rows x 8 columns]"
      ]
     },
     "execution_count": 5,
     "metadata": {},
     "output_type": "execute_result"
    }
   ],
   "source": [
    "X"
   ]
  },
  {
   "cell_type": "code",
   "execution_count": 6,
   "metadata": {},
   "outputs": [
    {
     "data": {
      "text/plain": [
       "0        4.526\n",
       "1        3.585\n",
       "2        3.521\n",
       "3        3.413\n",
       "4        3.422\n",
       "         ...  \n",
       "20635    0.781\n",
       "20636    0.771\n",
       "20637    0.923\n",
       "20638    0.847\n",
       "20639    0.894\n",
       "Name: target, Length: 20640, dtype: float64"
      ]
     },
     "execution_count": 6,
     "metadata": {},
     "output_type": "execute_result"
    }
   ],
   "source": [
    "y"
   ]
  },
  {
   "cell_type": "code",
   "execution_count": 7,
   "metadata": {},
   "outputs": [
    {
     "data": {
      "text/html": [
       "<div>\n",
       "<style scoped>\n",
       "    .dataframe tbody tr th:only-of-type {\n",
       "        vertical-align: middle;\n",
       "    }\n",
       "\n",
       "    .dataframe tbody tr th {\n",
       "        vertical-align: top;\n",
       "    }\n",
       "\n",
       "    .dataframe thead th {\n",
       "        text-align: right;\n",
       "    }\n",
       "</style>\n",
       "<table border=\"1\" class=\"dataframe\">\n",
       "  <thead>\n",
       "    <tr style=\"text-align: right;\">\n",
       "      <th></th>\n",
       "      <th>MedInc</th>\n",
       "      <th>HouseAge</th>\n",
       "      <th>AveRooms</th>\n",
       "      <th>AveBedrms</th>\n",
       "      <th>Population</th>\n",
       "      <th>AveOccup</th>\n",
       "      <th>Latitude</th>\n",
       "      <th>Longitude</th>\n",
       "    </tr>\n",
       "  </thead>\n",
       "  <tbody>\n",
       "    <tr>\n",
       "      <th>count</th>\n",
       "      <td>20640.00</td>\n",
       "      <td>20640.00</td>\n",
       "      <td>20640.00</td>\n",
       "      <td>20640.00</td>\n",
       "      <td>20640.00</td>\n",
       "      <td>20640.00</td>\n",
       "      <td>20640.00</td>\n",
       "      <td>20640.00</td>\n",
       "    </tr>\n",
       "    <tr>\n",
       "      <th>mean</th>\n",
       "      <td>3.87</td>\n",
       "      <td>28.64</td>\n",
       "      <td>5.43</td>\n",
       "      <td>1.10</td>\n",
       "      <td>1425.48</td>\n",
       "      <td>3.07</td>\n",
       "      <td>35.63</td>\n",
       "      <td>-119.57</td>\n",
       "    </tr>\n",
       "    <tr>\n",
       "      <th>std</th>\n",
       "      <td>1.90</td>\n",
       "      <td>12.59</td>\n",
       "      <td>2.47</td>\n",
       "      <td>0.47</td>\n",
       "      <td>1132.46</td>\n",
       "      <td>10.39</td>\n",
       "      <td>2.14</td>\n",
       "      <td>2.00</td>\n",
       "    </tr>\n",
       "    <tr>\n",
       "      <th>min</th>\n",
       "      <td>0.50</td>\n",
       "      <td>1.00</td>\n",
       "      <td>0.85</td>\n",
       "      <td>0.33</td>\n",
       "      <td>3.00</td>\n",
       "      <td>0.69</td>\n",
       "      <td>32.54</td>\n",
       "      <td>-124.35</td>\n",
       "    </tr>\n",
       "    <tr>\n",
       "      <th>25%</th>\n",
       "      <td>2.56</td>\n",
       "      <td>18.00</td>\n",
       "      <td>4.44</td>\n",
       "      <td>1.01</td>\n",
       "      <td>787.00</td>\n",
       "      <td>2.43</td>\n",
       "      <td>33.93</td>\n",
       "      <td>-121.80</td>\n",
       "    </tr>\n",
       "    <tr>\n",
       "      <th>50%</th>\n",
       "      <td>3.53</td>\n",
       "      <td>29.00</td>\n",
       "      <td>5.23</td>\n",
       "      <td>1.05</td>\n",
       "      <td>1166.00</td>\n",
       "      <td>2.82</td>\n",
       "      <td>34.26</td>\n",
       "      <td>-118.49</td>\n",
       "    </tr>\n",
       "    <tr>\n",
       "      <th>75%</th>\n",
       "      <td>4.74</td>\n",
       "      <td>37.00</td>\n",
       "      <td>6.05</td>\n",
       "      <td>1.10</td>\n",
       "      <td>1725.00</td>\n",
       "      <td>3.28</td>\n",
       "      <td>37.71</td>\n",
       "      <td>-118.01</td>\n",
       "    </tr>\n",
       "    <tr>\n",
       "      <th>max</th>\n",
       "      <td>15.00</td>\n",
       "      <td>52.00</td>\n",
       "      <td>141.91</td>\n",
       "      <td>34.07</td>\n",
       "      <td>35682.00</td>\n",
       "      <td>1243.33</td>\n",
       "      <td>41.95</td>\n",
       "      <td>-114.31</td>\n",
       "    </tr>\n",
       "  </tbody>\n",
       "</table>\n",
       "</div>"
      ],
      "text/plain": [
       "         MedInc  HouseAge  AveRooms  AveBedrms  Population  AveOccup   \n",
       "count  20640.00  20640.00  20640.00   20640.00    20640.00  20640.00  \\\n",
       "mean       3.87     28.64      5.43       1.10     1425.48      3.07   \n",
       "std        1.90     12.59      2.47       0.47     1132.46     10.39   \n",
       "min        0.50      1.00      0.85       0.33        3.00      0.69   \n",
       "25%        2.56     18.00      4.44       1.01      787.00      2.43   \n",
       "50%        3.53     29.00      5.23       1.05     1166.00      2.82   \n",
       "75%        4.74     37.00      6.05       1.10     1725.00      3.28   \n",
       "max       15.00     52.00    141.91      34.07    35682.00   1243.33   \n",
       "\n",
       "       Latitude  Longitude  \n",
       "count  20640.00   20640.00  \n",
       "mean      35.63    -119.57  \n",
       "std        2.14       2.00  \n",
       "min       32.54    -124.35  \n",
       "25%       33.93    -121.80  \n",
       "50%       34.26    -118.49  \n",
       "75%       37.71    -118.01  \n",
       "max       41.95    -114.31  "
      ]
     },
     "execution_count": 7,
     "metadata": {},
     "output_type": "execute_result"
    }
   ],
   "source": [
    "X.describe().round(2)"
   ]
  },
  {
   "cell_type": "code",
   "execution_count": 8,
   "metadata": {},
   "outputs": [
    {
     "data": {
      "text/plain": [
       "count    20640.00\n",
       "mean         2.07\n",
       "std          1.15\n",
       "min          0.15\n",
       "25%          1.20\n",
       "50%          1.80\n",
       "75%          2.65\n",
       "max          5.00\n",
       "Name: target, dtype: float64"
      ]
     },
     "execution_count": 8,
     "metadata": {},
     "output_type": "execute_result"
    }
   ],
   "source": [
    "y.describe().round(2)"
   ]
  },
  {
   "cell_type": "code",
   "execution_count": 9,
   "metadata": {},
   "outputs": [
    {
     "data": {
      "text/plain": [
       "MedInc        0\n",
       "HouseAge      0\n",
       "AveRooms      0\n",
       "AveBedrms     0\n",
       "Population    0\n",
       "AveOccup      0\n",
       "Latitude      0\n",
       "Longitude     0\n",
       "dtype: int64"
      ]
     },
     "execution_count": 9,
     "metadata": {},
     "output_type": "execute_result"
    }
   ],
   "source": [
    "X.isna().sum()"
   ]
  },
  {
   "cell_type": "code",
   "execution_count": 10,
   "metadata": {},
   "outputs": [
    {
     "data": {
      "image/png": "[encoded data removed]",
      "text/plain": [
       "<Figure size 800x600 with 1 Axes>"
      ]
     },
     "metadata": {},
     "output_type": "display_data"
    }
   ],
   "source": [
    "# Distribuição da variável alvo\n",
    "plt.figure(figsize=(8, 6))\n",
    "sns.histplot(y, bins=30, kde=True)\n",
    "plt.title('Distribuição da variável alvo')\n",
    "plt.xlabel('Valor médio das casas')\n",
    "plt.show()"
   ]
  },
  {
   "cell_type": "code",
   "execution_count": 11,
   "metadata": {},
   "outputs": [
    {
     "data": {
      "text/plain": [
       "<Axes: >"
      ]
     },
     "execution_count": 11,
     "metadata": {},
     "output_type": "execute_result"
    },
    {
     "data": {
      "image/png": "[encoded data removed]",
      "text/plain": [
       "<Figure size 640x480 with 2 Axes>"
      ]
     },
     "metadata": {},
     "output_type": "display_data"
    }
   ],
   "source": [
    "import seaborn as sns\n",
    "df_corr = X.drop(columns=['Latitude', 'Longitude'])\n",
    "df_corr['target'] = y\n",
    "cormat = df_corr.corr()\n",
    "sns.heatmap(cormat, annot=True, fmt=\".2f\", cmap=\"coolwarm\")"
   ]
  },
  {
   "cell_type": "markdown",
   "metadata": {},
   "source": [
    "## Separando treino e teste"
   ]
  },
  {
   "cell_type": "code",
   "execution_count": 12,
   "metadata": {},
   "outputs": [],
   "source": [
    "from sklearn.model_selection import train_test_split\n",
    "\n",
    "X_train, X_test, y_train, y_test = train_test_split(X, y, test_size=0.2, random_state=42)"
   ]
  },
  {
   "cell_type": "markdown",
   "metadata": {},
   "source": [
    "## Treinando Modelos"
   ]
  },
  {
   "cell_type": "code",
   "execution_count": 13,
   "metadata": {},
   "outputs": [],
   "source": [
    "models = {}"
   ]
  },
  {
   "cell_type": "markdown",
   "metadata": {},
   "source": [
    "### Regressão Linear"
   ]
  },
  {
   "cell_type": "code",
   "execution_count": 14,
   "metadata": {},
   "outputs": [],
   "source": [
    "from sklearn.linear_model import LinearRegression"
   ]
  },
  {
   "cell_type": "code",
   "execution_count": 15,
   "metadata": {},
   "outputs": [
    {
     "name": "stdout",
     "output_type": "stream",
     "text": [
      "\n",
      "    *-------------------------*\n",
      "    Modelo Regressão Linear 1:\n",
      "\n",
      "    MSE  : 0.55589\n",
      "    RMSE : 0.74558\n",
      "    MAE  : 0.5332\n",
      "    MAPE : 31.95219\n",
      "    R²   : 0.57579\n",
      "    *-------------------------*\n",
      "\n",
      "CPU times: user 28.2 ms, sys: 50.3 ms, total: 78.5 ms\n",
      "Wall time: 18.4 ms\n"
     ]
    }
   ],
   "source": [
    "%%time\n",
    "model_name = \"Regressão Linear 1\"\n",
    "model = LinearRegression()\n",
    "model.fit(X_train, y_train)\n",
    "y_pred = model.predict(X_test)\n",
    "\n",
    "models[model_name] = validate_model(y_pred, y_test, model_name=model_name)"
   ]
  },
  {
   "cell_type": "code",
   "execution_count": 16,
   "metadata": {},
   "outputs": [
    {
     "name": "stdout",
     "output_type": "stream",
     "text": [
      "\n",
      "    *-------------------------*\n",
      "    Modelo Regressão Linear 2:\n",
      "\n",
      "    MSE  : 0.66244\n",
      "    RMSE : 0.8139\n",
      "    MAE  : 0.60494\n",
      "    MAPE : 37.79408\n",
      "    R²   : 0.49448\n",
      "    *-------------------------*\n",
      "\n",
      "CPU times: user 184 ms, sys: 69.1 ms, total: 253 ms\n",
      "Wall time: 43.1 ms\n"
     ]
    }
   ],
   "source": [
    "%%time\n",
    "model_name = \"Regressão Linear 2\"\n",
    "model = LinearRegression(n_jobs=8, positive=True, fit_intercept=False)\n",
    "model.fit(X_train, y_train)\n",
    "y_pred = model.predict(X_test)\n",
    "models[model_name] = validate_model(y_pred, y_test, model_name=model_name)"
   ]
  },
  {
   "cell_type": "markdown",
   "metadata": {},
   "source": [
    "### Lasso"
   ]
  },
  {
   "cell_type": "code",
   "execution_count": 17,
   "metadata": {},
   "outputs": [],
   "source": [
    "from sklearn.linear_model import Lasso"
   ]
  },
  {
   "cell_type": "code",
   "execution_count": 18,
   "metadata": {},
   "outputs": [
    {
     "name": "stdout",
     "output_type": "stream",
     "text": [
      "\n",
      "    *-------------------------*\n",
      "    Modelo Lasso 1:\n",
      "\n",
      "    MSE  : 0.93803\n",
      "    RMSE : 0.96852\n",
      "    MAE  : 0.76158\n",
      "    MAPE : 52.43863\n",
      "    R²   : 0.28417\n",
      "    *-------------------------*\n",
      "\n",
      "CPU times: user 1.57 s, sys: 503 ms, total: 2.07 s\n",
      "Wall time: 385 ms\n"
     ]
    }
   ],
   "source": [
    "%%time\n",
    "model_name = \"Lasso 1\"\n",
    "model = Lasso()\n",
    "model.fit(X_train, y_train)\n",
    "y_pred = model.predict(X_test)\n",
    "models[model_name] = validate_model(y_pred, y_test, model_name=model_name)"
   ]
  },
  {
   "cell_type": "code",
   "execution_count": 19,
   "metadata": {},
   "outputs": [
    {
     "name": "stdout",
     "output_type": "stream",
     "text": [
      "\n",
      "    *-------------------------*\n",
      "    Modelo Lasso 2:\n",
      "\n",
      "    MSE  : 0.91468\n",
      "    RMSE : 0.95639\n",
      "    MAE  : 0.7489\n",
      "    MAPE : 51.34698\n",
      "    R²   : 0.30199\n",
      "    *-------------------------*\n",
      "\n",
      "CPU times: user 4.61 s, sys: 453 ms, total: 5.06 s\n",
      "Wall time: 822 ms\n"
     ]
    }
   ],
   "source": [
    "%%time\n",
    "model_name = \"Lasso 2\"\n",
    "model = Lasso(tol=0.000000000000001, random_state=42, selection='random', fit_intercept=False)\n",
    "model.fit(X_train, y_train)\n",
    "y_pred = model.predict(X_test)\n",
    "models[model_name] = validate_model(y_pred, y_test, model_name=model_name)"
   ]
  },
  {
   "cell_type": "markdown",
   "metadata": {},
   "source": [
    "### Ridge Regression"
   ]
  },
  {
   "cell_type": "code",
   "execution_count": 20,
   "metadata": {},
   "outputs": [],
   "source": [
    "from sklearn.linear_model import Ridge"
   ]
  },
  {
   "cell_type": "code",
   "execution_count": 21,
   "metadata": {},
   "outputs": [
    {
     "name": "stdout",
     "output_type": "stream",
     "text": [
      "\n",
      "    *-------------------------*\n",
      "    Modelo Rigde 1:\n",
      "\n",
      "    MSE  : 0.5558\n",
      "    RMSE : 0.74552\n",
      "    MAE  : 0.5332\n",
      "    MAPE : 31.95235\n",
      "    R²   : 0.57585\n",
      "    *-------------------------*\n",
      "\n",
      "CPU times: user 516 ms, sys: 97 ms, total: 613 ms\n",
      "Wall time: 95.8 ms\n"
     ]
    }
   ],
   "source": [
    "%%time\n",
    "model_name = \"Rigde 1\"\n",
    "model = Ridge()\n",
    "model.fit(X_train, y_train)\n",
    "y_pred = model.predict(X_test)\n",
    "models[model_name] = validate_model(y_pred, y_test, model_name=model_name)"
   ]
  },
  {
   "cell_type": "code",
   "execution_count": 22,
   "metadata": {},
   "outputs": [
    {
     "name": "stdout",
     "output_type": "stream",
     "text": [
      "\n",
      "    *-------------------------*\n",
      "    Modelo Rigde 2:\n",
      "\n",
      "    MSE  : 0.55587\n",
      "    RMSE : 0.74556\n",
      "    MAE  : 0.5332\n",
      "    MAPE : 31.95224\n",
      "    R²   : 0.57581\n",
      "    *-------------------------*\n",
      "\n",
      "CPU times: user 74.5 ms, sys: 13.2 ms, total: 87.8 ms\n",
      "Wall time: 13.3 ms\n"
     ]
    }
   ],
   "source": [
    "%%time\n",
    "model_name = \"Rigde 2\"\n",
    "model = Ridge(alpha=0.3, random_state=42)\n",
    "model.fit(X_train, y_train)\n",
    "y_pred = model.predict(X_test)\n",
    "models[model_name] = validate_model(y_pred, y_test, model_name=model_name)"
   ]
  },
  {
   "cell_type": "markdown",
   "metadata": {},
   "source": [
    "### ElasticNet"
   ]
  },
  {
   "cell_type": "code",
   "execution_count": 23,
   "metadata": {},
   "outputs": [],
   "source": [
    "from sklearn.linear_model import ElasticNet"
   ]
  },
  {
   "cell_type": "code",
   "execution_count": 24,
   "metadata": {},
   "outputs": [
    {
     "name": "stdout",
     "output_type": "stream",
     "text": [
      "\n",
      "    *-------------------------*\n",
      "    Modelo ElasticNet 1:\n",
      "\n",
      "    MSE  : 0.68687\n",
      "    RMSE : 0.82878\n",
      "    MAE  : 0.63061\n",
      "    MAPE : 41.44608\n",
      "    R²   : 0.47583\n",
      "    *-------------------------*\n",
      "\n",
      "CPU times: user 425 ms, sys: 322 ms, total: 747 ms\n",
      "Wall time: 117 ms\n"
     ]
    }
   ],
   "source": [
    "%%time\n",
    "model_name = \"ElasticNet 1\"\n",
    "model = ElasticNet(alpha=0.5, l1_ratio=0.5)\n",
    "model.fit(X_train, y_train)\n",
    "y_pred = model.predict(X_test)\n",
    "models[model_name] = validate_model(y_pred, y_test, model_name=model_name)"
   ]
  },
  {
   "cell_type": "code",
   "execution_count": 25,
   "metadata": {},
   "outputs": [
    {
     "name": "stdout",
     "output_type": "stream",
     "text": [
      "\n",
      "    *-------------------------*\n",
      "    Modelo ElasticNet 2:\n",
      "\n",
      "    MSE  : 0.55503\n",
      "    RMSE : 0.745\n",
      "    MAE  : 0.54599\n",
      "    MAPE : 32.89\n",
      "    R²   : 0.57645\n",
      "    *-------------------------*\n",
      "\n",
      "CPU times: user 1.16 s, sys: 581 ms, total: 1.74 s\n",
      "Wall time: 251 ms\n"
     ]
    }
   ],
   "source": [
    "%%time\n",
    "model_name = \"ElasticNet 2\"\n",
    "model = ElasticNet(alpha=0.1, l1_ratio=0.1)\n",
    "model.fit(X_train, y_train)\n",
    "y_pred = model.predict(X_test)\n",
    "models[model_name] = validate_model(y_pred, y_test, model_name=model_name)"
   ]
  },
  {
   "cell_type": "markdown",
   "metadata": {},
   "source": [
    "### Arvore de Decisão"
   ]
  },
  {
   "cell_type": "code",
   "execution_count": 26,
   "metadata": {},
   "outputs": [],
   "source": [
    "from sklearn import tree"
   ]
  },
  {
   "cell_type": "code",
   "execution_count": 27,
   "metadata": {},
   "outputs": [
    {
     "name": "stdout",
     "output_type": "stream",
     "text": [
      "1.0\n",
      "\n",
      "    *-------------------------*\n",
      "    Modelo Árvore de Decisão 1:\n",
      "\n",
      "    MSE  : 0.49303\n",
      "    RMSE : 0.70216\n",
      "    MAE  : 0.45211\n",
      "    MAPE : 24.954\n",
      "    R²   : 0.62376\n",
      "    *-------------------------*\n",
      "\n",
      "CPU times: user 746 ms, sys: 406 ms, total: 1.15 s\n",
      "Wall time: 328 ms\n"
     ]
    }
   ],
   "source": [
    "%%time\n",
    "model_name = \"Árvore de Decisão 1\"\n",
    "model = tree.DecisionTreeRegressor()\n",
    "model.fit(X_train, y_train)\n",
    "print(model.score(X_train, y_train))\n",
    "y_pred = model.predict(X_test)\n",
    "models[model_name] = validate_model(y_pred, y_test, model_name=model_name)"
   ]
  },
  {
   "cell_type": "code",
   "execution_count": 28,
   "metadata": {},
   "outputs": [
    {
     "name": "stdout",
     "output_type": "stream",
     "text": [
      "1.0\n",
      "\n",
      "    *-------------------------*\n",
      "    Modelo Árvore de Decisão 2:\n",
      "\n",
      "    MSE  : 0.50295\n",
      "    RMSE : 0.70919\n",
      "    MAE  : 0.45583\n",
      "    MAPE : 25.26797\n",
      "    R²   : 0.61619\n",
      "    *-------------------------*\n",
      "\n",
      "CPU times: user 208 ms, sys: 1.63 ms, total: 209 ms\n",
      "Wall time: 209 ms\n"
     ]
    }
   ],
   "source": [
    "%%time\n",
    "model_name = \"Árvore de Decisão 2\"\n",
    "model = tree.DecisionTreeRegressor(criterion='friedman_mse')\n",
    "model.fit(X_train, y_train)\n",
    "print(model.score(X_train, y_train))\n",
    "y_pred = model.predict(X_test)\n",
    "models[model_name] = validate_model(y_pred, y_test, model_name=model_name)"
   ]
  },
  {
   "cell_type": "markdown",
   "metadata": {},
   "source": [
    "### SVM (SVC e SVR)\n",
    "\n",
    "Para nosso problema de SVC, como iremos trabalhar em modelo de classificação, vou transformar nosso **target** em uma estrutura binária baseada na média dos dados a princípio para fins de testes"
   ]
  },
  {
   "cell_type": "code",
   "execution_count": 29,
   "metadata": {},
   "outputs": [],
   "source": [
    "from sklearn.svm import SVC, SVR"
   ]
  },
  {
   "cell_type": "code",
   "execution_count": 35,
   "metadata": {},
   "outputs": [
    {
     "name": "stdout",
     "output_type": "stream",
     "text": [
      "[LibSVM].......\n",
      "Warning: using -h 0 may be faster\n",
      "*.......\n",
      "Warning: using -h 0 may be faster\n",
      "*\n",
      "optimization finished, #iter = 14425\n",
      "obj = -11650.332803, rho = -0.627506\n",
      "nSV = 11723, nBSV = 11644\n",
      "Total nSV = 11723\n",
      "Precisão do modelo SVC: 0.5910852713178295\n",
      "\n",
      "    *-------------------------*\n",
      "    Modelo SVC 1:\n",
      "\n",
      "    MSE  : 1.33201\n",
      "    RMSE : 1.15413\n",
      "    MAE  : 0.85995\n",
      "    MAPE : 52.27832\n",
      "    R²   : -0.01649\n",
      "    *-------------------------*\n",
      "\n",
      "CPU times: user 7.92 s, sys: 104 ms, total: 8.03 s\n",
      "Wall time: 8.07 s\n"
     ]
    }
   ],
   "source": [
    "%%time\n",
    "bin_y = y.apply(lambda x: 1 if x>2.07 else 0)\n",
    "bin_X_train, bin_X_test, bin_y_train, bin_y_test = train_test_split(X, bin_y, test_size=0.3, random_state=42)\n",
    "\n",
    "model_name = \"SVC\"\n",
    "model_svc = SVC(kernel='rbf', verbose=True)\n",
    "model_svc.fit(bin_X_train, bin_y_train)\n",
    "bin_y_pred = model_svc.predict(bin_X_test)\n",
    "precisao = accuracy_score(bin_y_test, bin_y_pred)\n",
    "print(f'\\nPrecisão do modelo SVC: {precisao.round(4)}')\n",
    "models[model_name] = validate_model(y_pred, y_test, model_name=model_name)"
   ]
  },
  {
   "cell_type": "code",
   "execution_count": 31,
   "metadata": {},
   "outputs": [
    {
     "name": "stdout",
     "output_type": "stream",
     "text": [
      "[LibSVM]........\n",
      "Warning: using -h 0 may be faster\n",
      "*.*\n",
      "optimization finished, #iter = 9014\n",
      "obj = -12908.973524, rho = -1.632056\n",
      "nSV = 15149, nBSV = 15132\n",
      "\n",
      "    *-------------------------*\n",
      "    Modelo SVR 1:\n",
      "\n",
      "    MSE  : 1.33201\n",
      "    RMSE : 1.15413\n",
      "    MAE  : 0.85995\n",
      "    MAPE : 52.27832\n",
      "    R²   : -0.01649\n",
      "    *-------------------------*\n",
      "\n",
      "CPU times: user 10.4 s, sys: 115 ms, total: 10.5 s\n",
      "Wall time: 10.6 s\n"
     ]
    }
   ],
   "source": [
    "%%time\n",
    "model_name = \"SVR\"\n",
    "model_svc = SVR(kernel='rbf', C=1.0, verbose=True)\n",
    "model_svc.fit(X_train, y_train)\n",
    "y_pred = model_svc.predict(X_test)\n",
    "models[model_name] = validate_model(y_pred, y_test, model_name=model_name)"
   ]
  },
  {
   "cell_type": "markdown",
   "metadata": {},
   "source": [
    "### KNN"
   ]
  },
  {
   "cell_type": "code",
   "execution_count": 37,
   "metadata": {},
   "outputs": [],
   "source": [
    "from sklearn.neighbors import KNeighborsRegressor"
   ]
  },
  {
   "cell_type": "code",
   "execution_count": 38,
   "metadata": {},
   "outputs": [
    {
     "name": "stdout",
     "output_type": "stream",
     "text": [
      "\n",
      "    *-------------------------*\n",
      "    Modelo KNN 1:\n",
      "\n",
      "    MSE  : 1.11868\n",
      "    RMSE : 1.05768\n",
      "    MAE  : 0.8128\n",
      "    MAPE : 53.44888\n",
      "    R²   : 0.14631\n",
      "    *-------------------------*\n",
      "\n",
      "CPU times: user 28.5 ms, sys: 13 ms, total: 41.5 ms\n",
      "Wall time: 85.8 ms\n"
     ]
    }
   ],
   "source": [
    "%%time\n",
    "model_name = \"KNN 1\"\n",
    "model_svc = KNeighborsRegressor()\n",
    "model_svc.fit(X_train, y_train)\n",
    "y_pred = model_svc.predict(X_test)\n",
    "models[model_name] = validate_model(y_pred, y_test, model_name=model_name)"
   ]
  },
  {
   "cell_type": "code",
   "execution_count": 52,
   "metadata": {},
   "outputs": [
    {
     "name": "stdout",
     "output_type": "stream",
     "text": [
      "\n",
      "    *-------------------------*\n",
      "    Modelo KNN 2:\n",
      "\n",
      "    MSE  : 1.10325\n",
      "    RMSE : 1.05036\n",
      "    MAE  : 0.81545\n",
      "    MAPE : 54.00962\n",
      "    R²   : 0.15809\n",
      "    *-------------------------*\n",
      "\n",
      "CPU times: user 28.6 ms, sys: 9.74 ms, total: 38.4 ms\n",
      "Wall time: 46.8 ms\n"
     ]
    }
   ],
   "source": [
    "\"\"\"\n",
    "Foi alterado o numero de vizinhos para 9 o que fez otimizar o modelo, já o algorítmo utilizado não impactou no índice de acerto do mesmo.\n",
    "\"\"\"\n",
    "\n",
    "%%time\n",
    "model_name = \"KNN 2\"\n",
    "model_svc = KNeighborsRegressor(n_neighbors=9, algorithm='kd_tree')\n",
    "model_svc.fit(X_train, y_train)\n",
    "y_pred = model_svc.predict(X_test)\n",
    "models[model_name] = validate_model(y_pred, y_test, model_name=model_name)"
   ]
  },
  {
   "cell_type": "markdown",
   "metadata": {},
   "source": [
    "## Resultados"
   ]
  },
  {
   "cell_type": "code",
   "execution_count": 83,
   "metadata": {},
   "outputs": [
    {
     "name": "stdout",
     "output_type": "stream",
     "text": [
      "Regressão Linear 1\n",
      "   mse: 0.555890   rmse: 0.745580   mae: 0.533200   mape: 31.952190  r2: 0.575790    \n",
      "\n",
      "Regressão Linear 2\n",
      "   mse: 0.662440   rmse: 0.813900   mae: 0.604940   mape: 37.794080  r2: 0.494480    \n",
      "\n",
      "Lasso 1\n",
      "   mse: 0.938030   rmse: 0.968520   mae: 0.761580   mape: 52.438630  r2: 0.284170    \n",
      "\n",
      "Lasso 2\n",
      "   mse: 0.914680   rmse: 0.956390   mae: 0.748900   mape: 51.346980  r2: 0.301990    \n",
      "\n",
      "Rigde 1\n",
      "   mse: 0.555800   rmse: 0.745520   mae: 0.533200   mape: 31.952350  r2: 0.575850    \n",
      "\n",
      "Rigde 2\n",
      "   mse: 0.555870   rmse: 0.745560   mae: 0.533200   mape: 31.952240  r2: 0.575810    \n",
      "\n",
      "ElasticNet 1\n",
      "   mse: 0.686870   rmse: 0.828780   mae: 0.630610   mape: 41.446080  r2: 0.475830    \n",
      "\n",
      "ElasticNet 2\n",
      "   mse: 0.555030   rmse: 0.745000   mae: 0.545990   mape: 32.890000  r2: 0.576450    \n",
      "\n",
      "Árvore de Decisão 1\n",
      "   mse: 0.493030   rmse: 0.702160   mae: 0.452110   mape: 24.954000  r2: 0.623760    \n",
      "\n",
      "Árvore de Decisão 2\n",
      "   mse: 0.502950   rmse: 0.709190   mae: 0.455830   mape: 25.267970  r2: 0.616190    \n",
      "\n",
      "SVR 1\n",
      "   mse: 1.332010   rmse: 1.154130   mae: 0.859950   mape: 52.278320  r2: -0.016490   \n",
      "\n",
      "SVC 1\n",
      "   mse: 1.332010   rmse: 1.154130   mae: 0.859950   mape: 52.278320  r2: -0.016490   \n",
      "\n",
      "KNN 1\n",
      "   mse: 1.118680   rmse: 1.057680   mae: 0.812800   mape: 53.448880  r2: 0.146310    \n",
      "\n",
      "KNN 2\n",
      "   mse: 1.103250   rmse: 1.050360   mae: 0.815450   mape: 54.009620  r2: 0.158090    \n",
      "\n"
     ]
    }
   ],
   "source": [
    "for key, value in models.items():\n",
    "    print(key)\n",
    "    print('   mse: {0:<10f} rmse: {1:<10f} mae: {2:<10f} mape: {3:<10f} r2: {4:<10f}  \\n'.format(\n",
    "        value['mse'],\n",
    "        value['rmse'],\n",
    "        value['mae'],\n",
    "        value['mape'],\n",
    "        value['r2']\n",
    "    ))"
   ]
  },
  {
   "cell_type": "markdown",
   "metadata": {},
   "source": [
    "## Otimização"
   ]
  },
  {
   "cell_type": "markdown",
   "metadata": {},
   "source": [
    "Obtivemos como o melhor modelo em nossos testes o modelo de Árvore de Decisão 1 (utilizando os parametros default).\n",
    "\n",
    "Mas será que conseguiriamos otimizar ainda mais este modelo?\n",
    "\n",
    "Aplicaremos a técnica de RandomSearch:"
   ]
  },
  {
   "cell_type": "code",
   "execution_count": 86,
   "metadata": {},
   "outputs": [],
   "source": [
    "from sklearn.model_selection import RandomizedSearchCV\n",
    "from scipy.stats import randint"
   ]
  },
  {
   "cell_type": "code",
   "execution_count": 89,
   "metadata": {},
   "outputs": [
    {
     "name": "stdout",
     "output_type": "stream",
     "text": [
      "Fitting 5 folds for each of 2000 candidates, totalling 10000 fits\n",
      "CPU times: user 10.7 s, sys: 3.25 s, total: 14 s\n",
      "Wall time: 3min 45s\n"
     ]
    },
    {
     "data": {
      "text/html": [
       "<style>#sk-container-id-1 {color: black;}#sk-container-id-1 pre{padding: 0;}#sk-container-id-1 div.sk-toggleable {background-color: white;}#sk-container-id-1 label.sk-toggleable__label {cursor: pointer;display: block;width: 100%;margin-bottom: 0;padding: 0.3em;box-sizing: border-box;text-align: center;}#sk-container-id-1 label.sk-toggleable__label-arrow:before {content: \"▸\";float: left;margin-right: 0.25em;color: #696969;}#sk-container-id-1 label.sk-toggleable__label-arrow:hover:before {color: black;}#sk-container-id-1 div.sk-estimator:hover label.sk-toggleable__label-arrow:before {color: black;}#sk-container-id-1 div.sk-toggleable__content {max-height: 0;max-width: 0;overflow: hidden;text-align: left;background-color: #f0f8ff;}#sk-container-id-1 div.sk-toggleable__content pre {margin: 0.2em;color: black;border-radius: 0.25em;background-color: #f0f8ff;}#sk-container-id-1 input.sk-toggleable__control:checked~div.sk-toggleable__content {max-height: 200px;max-width: 100%;overflow: auto;}#sk-container-id-1 input.sk-toggleable__control:checked~label.sk-toggleable__label-arrow:before {content: \"▾\";}#sk-container-id-1 div.sk-estimator input.sk-toggleable__control:checked~label.sk-toggleable__label {background-color: #d4ebff;}#sk-container-id-1 div.sk-label input.sk-toggleable__control:checked~label.sk-toggleable__label {background-color: #d4ebff;}#sk-container-id-1 input.sk-hidden--visually {border: 0;clip: rect(1px 1px 1px 1px);clip: rect(1px, 1px, 1px, 1px);height: 1px;margin: -1px;overflow: hidden;padding: 0;position: absolute;width: 1px;}#sk-container-id-1 div.sk-estimator {font-family: monospace;background-color: #f0f8ff;border: 1px dotted black;border-radius: 0.25em;box-sizing: border-box;margin-bottom: 0.5em;}#sk-container-id-1 div.sk-estimator:hover {background-color: #d4ebff;}#sk-container-id-1 div.sk-parallel-item::after {content: \"\";width: 100%;border-bottom: 1px solid gray;flex-grow: 1;}#sk-container-id-1 div.sk-label:hover label.sk-toggleable__label {background-color: #d4ebff;}#sk-container-id-1 div.sk-serial::before {content: \"\";position: absolute;border-left: 1px solid gray;box-sizing: border-box;top: 0;bottom: 0;left: 50%;z-index: 0;}#sk-container-id-1 div.sk-serial {display: flex;flex-direction: column;align-items: center;background-color: white;padding-right: 0.2em;padding-left: 0.2em;position: relative;}#sk-container-id-1 div.sk-item {position: relative;z-index: 1;}#sk-container-id-1 div.sk-parallel {display: flex;align-items: stretch;justify-content: center;background-color: white;position: relative;}#sk-container-id-1 div.sk-item::before, #sk-container-id-1 div.sk-parallel-item::before {content: \"\";position: absolute;border-left: 1px solid gray;box-sizing: border-box;top: 0;bottom: 0;left: 50%;z-index: -1;}#sk-container-id-1 div.sk-parallel-item {display: flex;flex-direction: column;z-index: 1;position: relative;background-color: white;}#sk-container-id-1 div.sk-parallel-item:first-child::after {align-self: flex-end;width: 50%;}#sk-container-id-1 div.sk-parallel-item:last-child::after {align-self: flex-start;width: 50%;}#sk-container-id-1 div.sk-parallel-item:only-child::after {width: 0;}#sk-container-id-1 div.sk-dashed-wrapped {border: 1px dashed gray;margin: 0 0.4em 0.5em 0.4em;box-sizing: border-box;padding-bottom: 0.4em;background-color: white;}#sk-container-id-1 div.sk-label label {font-family: monospace;font-weight: bold;display: inline-block;line-height: 1.2em;}#sk-container-id-1 div.sk-label-container {text-align: center;}#sk-container-id-1 div.sk-container {/* jupyter's `normalize.less` sets `[hidden] { display: none; }` but bootstrap.min.css set `[hidden] { display: none !important; }` so we also need the `!important` here to be able to override the default hidden behavior on the sphinx rendered scikit-learn.org. See: https://github.com/scikit-learn/scikit-learn/issues/21755 */display: inline-block !important;position: relative;}#sk-container-id-1 div.sk-text-repr-fallback {display: none;}</style><div id=\"sk-container-id-1\" class=\"sk-top-container\"><div class=\"sk-text-repr-fallback\"><pre>RandomizedSearchCV(cv=5, estimator=DecisionTreeRegressor(), n_iter=2000,\n",
       "                   n_jobs=-1,\n",
       "                   param_distributions={&#x27;max_depth&#x27;: &lt;scipy.stats._distn_infrastructure.rv_discrete_frozen object at 0x14377adf0&gt;,\n",
       "                                        &#x27;min_samples_leaf&#x27;: &lt;scipy.stats._distn_infrastructure.rv_discrete_frozen object at 0x14315b730&gt;,\n",
       "                                        &#x27;min_samples_split&#x27;: &lt;scipy.stats._distn_infrastructure.rv_discrete_frozen object at 0x143808160&gt;},\n",
       "                   scoring=&#x27;neg_mean_squared_error&#x27;, verbose=1)</pre><b>In a Jupyter environment, please rerun this cell to show the HTML representation or trust the notebook. <br />On GitHub, the HTML representation is unable to render, please try loading this page with nbviewer.org.</b></div><div class=\"sk-container\" hidden><div class=\"sk-item sk-dashed-wrapped\"><div class=\"sk-label-container\"><div class=\"sk-label sk-toggleable\"><input class=\"sk-toggleable__control sk-hidden--visually\" id=\"sk-estimator-id-1\" type=\"checkbox\" ><label for=\"sk-estimator-id-1\" class=\"sk-toggleable__label sk-toggleable__label-arrow\">RandomizedSearchCV</label><div class=\"sk-toggleable__content\"><pre>RandomizedSearchCV(cv=5, estimator=DecisionTreeRegressor(), n_iter=2000,\n",
       "                   n_jobs=-1,\n",
       "                   param_distributions={&#x27;max_depth&#x27;: &lt;scipy.stats._distn_infrastructure.rv_discrete_frozen object at 0x14377adf0&gt;,\n",
       "                                        &#x27;min_samples_leaf&#x27;: &lt;scipy.stats._distn_infrastructure.rv_discrete_frozen object at 0x14315b730&gt;,\n",
       "                                        &#x27;min_samples_split&#x27;: &lt;scipy.stats._distn_infrastructure.rv_discrete_frozen object at 0x143808160&gt;},\n",
       "                   scoring=&#x27;neg_mean_squared_error&#x27;, verbose=1)</pre></div></div></div><div class=\"sk-parallel\"><div class=\"sk-parallel-item\"><div class=\"sk-item\"><div class=\"sk-label-container\"><div class=\"sk-label sk-toggleable\"><input class=\"sk-toggleable__control sk-hidden--visually\" id=\"sk-estimator-id-2\" type=\"checkbox\" ><label for=\"sk-estimator-id-2\" class=\"sk-toggleable__label sk-toggleable__label-arrow\">estimator: DecisionTreeRegressor</label><div class=\"sk-toggleable__content\"><pre>DecisionTreeRegressor()</pre></div></div></div><div class=\"sk-serial\"><div class=\"sk-item\"><div class=\"sk-estimator sk-toggleable\"><input class=\"sk-toggleable__control sk-hidden--visually\" id=\"sk-estimator-id-3\" type=\"checkbox\" ><label for=\"sk-estimator-id-3\" class=\"sk-toggleable__label sk-toggleable__label-arrow\">DecisionTreeRegressor</label><div class=\"sk-toggleable__content\"><pre>DecisionTreeRegressor()</pre></div></div></div></div></div></div></div></div></div></div>"
      ],
      "text/plain": [
       "RandomizedSearchCV(cv=5, estimator=DecisionTreeRegressor(), n_iter=2000,\n",
       "                   n_jobs=-1,\n",
       "                   param_distributions={'max_depth': <scipy.stats._distn_infrastructure.rv_discrete_frozen object at 0x14377adf0>,\n",
       "                                        'min_samples_leaf': <scipy.stats._distn_infrastructure.rv_discrete_frozen object at 0x14315b730>,\n",
       "                                        'min_samples_split': <scipy.stats._distn_infrastructure.rv_discrete_frozen object at 0x143808160>},\n",
       "                   scoring='neg_mean_squared_error', verbose=1)"
      ]
     },
     "execution_count": 89,
     "metadata": {},
     "output_type": "execute_result"
    }
   ],
   "source": [
    "%%time\n",
    "\n",
    "model = tree.DecisionTreeRegressor()\n",
    "\n",
    "param_dist = {\n",
    "    'max_depth': randint(1, 20),  # Profundidade máxima da árvore\n",
    "    'min_samples_split': randint(2, 20),  # Número mínimo de amostras necessárias para dividir um nó interno\n",
    "    'min_samples_leaf': randint(1, 20)  # Número mínimo de amostras necessárias para estar em uma folha\n",
    "}\n",
    "\n",
    "# pesquisa aleatória\n",
    "random_search = RandomizedSearchCV(\n",
    "    model,\n",
    "    param_distributions=param_dist,\n",
    "    n_iter=2000,  # Número de combinações de hiperparâmetros a serem tentadas\n",
    "    scoring='neg_mean_squared_error',\n",
    "    cv=5,  # Número de dobras para validação cruzada\n",
    "    verbose=1,\n",
    "    n_jobs=-1\n",
    ")\n",
    "\n",
    "random_search.fit(X_train, y_train)"
   ]
  },
  {
   "cell_type": "code",
   "execution_count": 90,
   "metadata": {},
   "outputs": [
    {
     "name": "stdout",
     "output_type": "stream",
     "text": [
      "Melhores Hiperparâmetros:\n",
      "{'max_depth': 12, 'min_samples_leaf': 16, 'min_samples_split': 5}\n",
      "\n"
     ]
    }
   ],
   "source": [
    "best_params = random_search.best_params_\n",
    "print(\"Melhores Hiperparâmetros:\")\n",
    "print(best_params)\n",
    "print()"
   ]
  },
  {
   "cell_type": "code",
   "execution_count": 92,
   "metadata": {},
   "outputs": [
    {
     "name": "stdout",
     "output_type": "stream",
     "text": [
      "\n",
      "    *-------------------------*\n",
      "    Modelo Best Model:\n",
      "\n",
      "    MSE  : 0.35938\n",
      "    RMSE : 0.59948\n",
      "    MAE  : 0.40503\n",
      "    MAPE : 23.25023\n",
      "    R²   : 0.72575\n",
      "    *-------------------------*\n",
      "\n",
      "CPU times: user 4.53 ms, sys: 5.22 ms, total: 9.75 ms\n",
      "Wall time: 8.77 ms\n"
     ]
    }
   ],
   "source": [
    "%%time\n",
    "model_name = \"Best Model\"\n",
    "best_model = random_search.best_estimator_\n",
    "y_pred = best_model.predict(X_test)\n",
    "models[model_name] = validate_model(y_pred, y_test, model_name=model_name)"
   ]
  },
  {
   "cell_type": "markdown",
   "metadata": {},
   "source": [
    "## Conclusão"
   ]
  },
  {
   "cell_type": "markdown",
   "metadata": {},
   "source": [
    "Conseguimos extrair o melhor modelo das opções executadas, e com isso, conseguimos calcular os melhores hiperparametros do mesmo utilizando a técnica Random Search.\n",
    "\n",
    "---\n",
    "**Modelo**: \n",
    "    \n",
    "    DecisionTreeRegressor\n",
    "\n",
    "---\n",
    "**Hiperparâmetros**:\n",
    "\n",
    "    max_depth = 12\n",
    "    min_samples_leaf = 16, \n",
    "    min_samples_split = 5"
   ]
  }
 ],
 "metadata": {
  "kernelspec": {
   "display_name": "Python 3",
   "language": "python",
   "name": "python3"
  },
  "language_info": {
   "codemirror_mode": {
    "name": "ipython",
    "version": 3
   },
   "file_extension": ".py",
   "mimetype": "text/x-python",
   "name": "python",
   "nbconvert_exporter": "python",
   "pygments_lexer": "ipython3",
   "version": "3.9.7"
  }
 },
 "nbformat": 4,
 "nbformat_minor": 2
}
